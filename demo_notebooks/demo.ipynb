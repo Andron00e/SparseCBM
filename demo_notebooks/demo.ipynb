{
 "cells": [
  {
   "cell_type": "code",
   "execution_count": null,
   "id": "dbf951ad-9dc9-483d-aaa5-8f6eb425c0ad",
   "metadata": {},
   "outputs": [],
   "source": [
    "import os\n",
    "import sys\n",
    "sys.path.append(\"../bottlenecks\")\n",
    "import configs\n",
    "from cbm import *\n",
    "from data_utils import *\n",
    "from trainer_utils import *\n",
    "from graph_plot_tools import *\n",
    "from utils import *\n",
    "from metric_utils import *\n",
    "from peft import LoraConfig, get_peft_model\n",
    "from typing import List, Dict, Optional\n",
    "os.environ[\"CUDA_DEVICE_ORDER\"]=\"PCI_BUS_ID\""
   ]
  },
  {
   "cell_type": "code",
   "execution_count": null,
   "id": "f58aae5a-99c2-447a-9d1f-e90e967fcab2",
   "metadata": {},
   "outputs": [],
   "source": [
    "configs.set_seed(42)\n",
    "device = configs.set_device(2)"
   ]
  },
  {
   "cell_type": "code",
   "execution_count": null,
   "id": "293ff0ea-df60-4459-bfe0-7e3e5c9fec56",
   "metadata": {},
   "outputs": [],
   "source": [
    "with open(\"../data/cub_filtered.txt\", \"r\") as f:\n",
    "    concepts = f.read().split('\\n')"
   ]
  },
  {
   "cell_type": "code",
   "execution_count": null,
   "id": "26d08fb1-595b-4a60-b3ff-67d13403f7ed",
   "metadata": {},
   "outputs": [],
   "source": [
    "train_loader_preprocessed  = prepared_dataloaders(Constants.cub200_link,\n",
    "                                                  concepts=concepts,\n",
    "                                                  prep_loaders=\"train\",\n",
    "                                                  batch_size=128,\n",
    "                                                  backbone_name=Constants.clip_large_link,\n",
    "                                                 )"
   ]
  },
  {
   "cell_type": "code",
   "execution_count": null,
   "id": "149b5d4b-9737-4546-a250-87a54468709a",
   "metadata": {},
   "outputs": [],
   "source": [
    "val_loader_preprocessed  = prepared_dataloaders(Constants.cub200_link,\n",
    "                                                  concepts=concepts,\n",
    "                                                  prep_loaders=\"val\",\n",
    "                                                  batch_size=128,\n",
    "                                                  backbone_name=Constants.clip_large_link,\n",
    "                                                 )"
   ]
  },
  {
   "cell_type": "code",
   "execution_count": null,
   "id": "9a3fd1ac-ad3c-4d3a-8433-873cbec37eed",
   "metadata": {},
   "outputs": [],
   "source": [
    "test_loader_preprocessed  = prepared_dataloaders(Constants.cub200_link,\n",
    "                                                  concepts=concepts,\n",
    "                                                  prep_loaders=\"test\",\n",
    "                                                  batch_size=128,\n",
    "                                                  backbone_name=Constants.clip_large_link,\n",
    "                                                 )"
   ]
  },
  {
   "cell_type": "code",
   "execution_count": null,
   "id": "dad16b11-3844-4992-9585-f1c1584ea789",
   "metadata": {},
   "outputs": [],
   "source": [
    "config = CBMConfig(\n",
    "    num_nets=2,\n",
    "    num_concepts=len(concepts),\n",
    "    num_classes=200,\n",
    "    run_name=\"demo_run\",\n",
    "    net_types=[\"base\", \"base\"],\n",
    "    backbones=[Constants.clip_large_link, Constants.clip_large_link],\n",
    "    displayed_names=[\"CLIP L/14, gumbel, 3e-4\", \"CLIP L/14, contrastive, 3e-4\"],\n",
    "    training_methods=[\"gumbel\", \"contrastive\"],\n",
    "    optimizers=[\"Adam\", \"Adam\"],\n",
    "    lrs=[3e-4, 3e-4],\n",
    "    cbl_lrs=[3e-4, 3e-4],\n",
    "    train_backbones=[False, False],\n",
    "    lora_connections=[],\n",
    ")"
   ]
  },
  {
   "cell_type": "code",
   "execution_count": null,
   "id": "3026d90e-6d24-47bd-bd1c-e51e5a4b5c33",
   "metadata": {},
   "outputs": [],
   "source": [
    "trainer = BottleneckTrainer(\n",
    "    config,\n",
    "    train_loader_preprocessed,\n",
    "    val_loader_preprocessed,\n",
    "    test_loader_preprocessed,\n",
    "    num_epochs=10,\n",
    "    device=device,\n",
    ")"
   ]
  },
  {
   "cell_type": "code",
   "execution_count": null,
   "id": "ca442339-68ef-4925-821f-7d075198ea2a",
   "metadata": {},
   "outputs": [],
   "source": [
    "trainer.train()"
   ]
  },
  {
   "cell_type": "code",
   "execution_count": null,
   "id": "e9dbc8a1-6ab4-43c0-9920-3e06329aea5a",
   "metadata": {},
   "outputs": [],
   "source": [
    "trainer.test()"
   ]
  },
  {
   "cell_type": "code",
   "execution_count": null,
   "id": "affa4442-c400-4998-b5d3-64a93d016641",
   "metadata": {},
   "outputs": [],
   "source": []
  }
 ],
 "metadata": {
  "kernelspec": {
   "display_name": "andronserv",
   "language": "python",
   "name": "andronserv"
  },
  "language_info": {
   "codemirror_mode": {
    "name": "ipython",
    "version": 3
   },
   "file_extension": ".py",
   "mimetype": "text/x-python",
   "name": "python",
   "nbconvert_exporter": "python",
   "pygments_lexer": "ipython3",
   "version": "3.10.13"
  }
 },
 "nbformat": 4,
 "nbformat_minor": 5
}
