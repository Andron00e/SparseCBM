{
 "cells": [
  {
   "cell_type": "code",
   "execution_count": 1,
   "metadata": {},
   "outputs": [
    {
     "name": "stderr",
     "output_type": "stream",
     "text": [
      "2024-03-25 03:04:01.772690: E tensorflow/compiler/xla/stream_executor/cuda/cuda_dnn.cc:9342] Unable to register cuDNN factory: Attempting to register factory for plugin cuDNN when one has already been registered\n",
      "2024-03-25 03:04:01.772810: E tensorflow/compiler/xla/stream_executor/cuda/cuda_fft.cc:609] Unable to register cuFFT factory: Attempting to register factory for plugin cuFFT when one has already been registered\n",
      "2024-03-25 03:04:01.772837: E tensorflow/compiler/xla/stream_executor/cuda/cuda_blas.cc:1518] Unable to register cuBLAS factory: Attempting to register factory for plugin cuBLAS when one has already been registered\n",
      "2024-03-25 03:04:01.782036: I tensorflow/core/platform/cpu_feature_guard.cc:182] This TensorFlow binary is optimized to use available CPU instructions in performance-critical operations.\n",
      "To enable the following instructions: AVX2 FMA, in other operations, rebuild TensorFlow with the appropriate compiler flags.\n",
      "2024-03-25 03:04:02.775467: W tensorflow/compiler/tf2tensorrt/utils/py_utils.cc:38] TF-TRT Warning: Could not find TensorRT\n"
     ]
    }
   ],
   "source": [
    "import os\n",
    "import sys\n",
    "sys.path.append(\"../bottlenecks\")\n",
    "import configs\n",
    "from cbm import *\n",
    "from data_utils import *\n",
    "from trainer_utils import *\n",
    "from graph_plot_tools import *\n",
    "from utils import *\n",
    "from metric_utils import *\n",
    "from peft import LoraConfig, get_peft_model\n",
    "from typing import List, Dict, Optional\n",
    "os.environ[\"CUDA_DEVICE_ORDER\"]=\"PCI_BUS_ID\""
   ]
  },
  {
   "cell_type": "code",
   "execution_count": 2,
   "metadata": {},
   "outputs": [
    {
     "name": "stdout",
     "output_type": "stream",
     "text": [
      "There are 8 GPU(s) available.\n",
      "We will use the GPU: NVIDIA A100-PCIE-40GB\n"
     ]
    }
   ],
   "source": [
    "configs.set_seed(42)\n",
    "device = configs.set_device(5)"
   ]
  },
  {
   "cell_type": "code",
   "execution_count": 3,
   "metadata": {},
   "outputs": [
    {
     "data": {
      "text/plain": [
       "'NVIDIA A100-PCIE-40GB'"
      ]
     },
     "execution_count": 3,
     "metadata": {},
     "output_type": "execute_result"
    }
   ],
   "source": [
    "torch.cuda.get_device_name(device)"
   ]
  },
  {
   "cell_type": "code",
   "execution_count": 4,
   "metadata": {},
   "outputs": [],
   "source": [
    "plt.style.use(\"seaborn-v0_8\")"
   ]
  },
  {
   "cell_type": "code",
   "execution_count": 5,
   "metadata": {},
   "outputs": [],
   "source": [
    "def accuracy(output, target, topk=(1,)):\n",
    "    maxk = max(topk)\n",
    "    batch_size = target.size(0)\n",
    "    _, pred = output.topk(maxk, 1, True, True)\n",
    "    pred = pred.t()\n",
    "    correct = pred.eq(target.view(1, -1).expand_as(pred)).contiguous()\n",
    "    res = []\n",
    "    for k in topk:\n",
    "        correct_k = correct[:k].view(-1).float().sum(0)\n",
    "        res.append(correct_k.mul_(100.0 / batch_size))\n",
    "    return res"
   ]
  },
  {
   "cell_type": "code",
   "execution_count": 6,
   "metadata": {},
   "outputs": [],
   "source": [
    "import evaluate\n",
    "\n",
    "precision_metric = evaluate.load(\"precision\")\n",
    "recall_metric = evaluate.load(\"recall\")\n",
    "f1_metric = evaluate.load(\"f1\")"
   ]
  },
  {
   "cell_type": "code",
   "execution_count": 7,
   "metadata": {},
   "outputs": [],
   "source": [
    "class LinearProbingModel(torch.nn.Module):\n",
    "    def __init__(self, \n",
    "                 num_classes: int, \n",
    "                 backbone_name: str = \"openai/clip-vit-base-patch32\",\n",
    "                 train_backbone: bool = False,\n",
    "     ):\n",
    "        super().__init__()\n",
    "        if backbone_name == Constants.altclip_link:\n",
    "            self.backbone = transformers.AltCLIPModel.from_pretrained(backbone_name)\n",
    "            self.processor = transformers.AltCLIPProcessor.from_pretrained(\n",
    "                backbone_name\n",
    "            )\n",
    "        elif backbone_name == Constants.align_link:\n",
    "            self.backbone = transformers.AlignModel.from_pretrained(backbone_name)\n",
    "            self.processor = transformers.AlignProcessor.from_pretrained(backbone_name)\n",
    "        elif backbone_name in [\n",
    "            Constants.siglip_so_link,\n",
    "            Constants.siglip_base_link,\n",
    "            Constants.siglip_large_link,\n",
    "            Constants.siglip_large_256_link,\n",
    "        ]:\n",
    "            self.backbone = transformers.AutoModel.from_pretrained(backbone_name)\n",
    "            self.processor = transformers.AutoProcessor.from_pretrained(backbone_name)\n",
    "        else:\n",
    "            self.backbone = transformers.CLIPModel.from_pretrained(backbone_name)\n",
    "            self.processor = transformers.CLIPProcessor.from_pretrained(backbone_name)\n",
    "        for param in self.backbone.parameters():\n",
    "            param.requires_grad = train_backbone\n",
    "        self.head = torch.nn.Linear(num_classes, num_classes, bias=False)\n",
    "\n",
    "    def forward(self, **batch):\n",
    "        logits = self.head(self.backbone(**batch).logits_per_image)\n",
    "        return logits"
   ]
  },
  {
   "cell_type": "markdown",
   "metadata": {},
   "source": [
    "#### CUB"
   ]
  },
  {
   "cell_type": "code",
   "execution_count": 10,
   "metadata": {},
   "outputs": [],
   "source": [
    "with open(\"../data/cub_classes.txt\", \"r\") as f:\n",
    "    class_names = f.read().split('\\n')\n",
    "\n",
    "class_names = [c.lower() for c in class_names]"
   ]
  },
  {
   "cell_type": "code",
   "execution_count": 12,
   "metadata": {},
   "outputs": [
    {
     "data": {
      "application/vnd.jupyter.widget-view+json": {
       "model_id": "96b067dff0ce44ac91f8d20cb88093bc",
       "version_major": 2,
       "version_minor": 0
      },
      "text/plain": [
       "  0%|          | 0/74 [00:00<?, ?it/s]"
      ]
     },
     "metadata": {},
     "output_type": "display_data"
    }
   ],
   "source": [
    "train_loader_preprocessed  = prepared_dataloaders(Constants.cub200_link,\n",
    "                                                  concepts=class_names,\n",
    "                                                  prep_loaders=\"train\",\n",
    "                                                  batch_size=128,\n",
    "                                                  backbone_name=Constants.clip_large_link,\n",
    "                                                 )"
   ]
  },
  {
   "cell_type": "code",
   "execution_count": 13,
   "metadata": {},
   "outputs": [
    {
     "data": {
      "application/vnd.jupyter.widget-view+json": {
       "model_id": "4b1d759c47354035800d69dd96277cf7",
       "version_major": 2,
       "version_minor": 0
      },
      "text/plain": [
       "  0%|          | 0/10 [00:00<?, ?it/s]"
      ]
     },
     "metadata": {},
     "output_type": "display_data"
    }
   ],
   "source": [
    "val_loader_preprocessed  = prepared_dataloaders(Constants.cub200_link,\n",
    "                                                  concepts=class_names,\n",
    "                                                  prep_loaders=\"val\",\n",
    "                                                  batch_size=128,\n",
    "                                                  backbone_name=Constants.clip_large_link,\n",
    "                                                 )"
   ]
  },
  {
   "cell_type": "code",
   "execution_count": 14,
   "metadata": {},
   "outputs": [
    {
     "data": {
      "application/vnd.jupyter.widget-view+json": {
       "model_id": "82212a4a468d4ffcbe43990fbd9efb32",
       "version_major": 2,
       "version_minor": 0
      },
      "text/plain": [
       "  0%|          | 0/10 [00:00<?, ?it/s]"
      ]
     },
     "metadata": {},
     "output_type": "display_data"
    }
   ],
   "source": [
    "test_loader_preprocessed  = prepared_dataloaders(Constants.cub200_link,\n",
    "                                                  concepts=class_names,\n",
    "                                                  prep_loaders=\"test\",\n",
    "                                                  batch_size=128,\n",
    "                                                  backbone_name=Constants.clip_large_link,\n",
    "                                                 )"
   ]
  },
  {
   "cell_type": "code",
   "execution_count": 25,
   "metadata": {},
   "outputs": [],
   "source": [
    "net = LinearProbingModel(\n",
    "    num_classes=200, \n",
    "    backbone_name=Constants.clip_large_link,\n",
    "    train_backbone=False,\n",
    ")\n",
    "criterion = torch.nn.CrossEntropyLoss()"
   ]
  },
  {
   "cell_type": "code",
   "execution_count": 26,
   "metadata": {},
   "outputs": [
    {
     "data": {
      "text/plain": [
       "LinearProbingModel(\n",
       "  (backbone): CLIPModel(\n",
       "    (text_model): CLIPTextTransformer(\n",
       "      (embeddings): CLIPTextEmbeddings(\n",
       "        (token_embedding): Embedding(49408, 768)\n",
       "        (position_embedding): Embedding(77, 768)\n",
       "      )\n",
       "      (encoder): CLIPEncoder(\n",
       "        (layers): ModuleList(\n",
       "          (0-11): 12 x CLIPEncoderLayer(\n",
       "            (self_attn): CLIPAttention(\n",
       "              (k_proj): Linear(in_features=768, out_features=768, bias=True)\n",
       "              (v_proj): Linear(in_features=768, out_features=768, bias=True)\n",
       "              (q_proj): Linear(in_features=768, out_features=768, bias=True)\n",
       "              (out_proj): Linear(in_features=768, out_features=768, bias=True)\n",
       "            )\n",
       "            (layer_norm1): LayerNorm((768,), eps=1e-05, elementwise_affine=True)\n",
       "            (mlp): CLIPMLP(\n",
       "              (activation_fn): QuickGELUActivation()\n",
       "              (fc1): Linear(in_features=768, out_features=3072, bias=True)\n",
       "              (fc2): Linear(in_features=3072, out_features=768, bias=True)\n",
       "            )\n",
       "            (layer_norm2): LayerNorm((768,), eps=1e-05, elementwise_affine=True)\n",
       "          )\n",
       "        )\n",
       "      )\n",
       "      (final_layer_norm): LayerNorm((768,), eps=1e-05, elementwise_affine=True)\n",
       "    )\n",
       "    (vision_model): CLIPVisionTransformer(\n",
       "      (embeddings): CLIPVisionEmbeddings(\n",
       "        (patch_embedding): Conv2d(3, 1024, kernel_size=(14, 14), stride=(14, 14), bias=False)\n",
       "        (position_embedding): Embedding(257, 1024)\n",
       "      )\n",
       "      (pre_layrnorm): LayerNorm((1024,), eps=1e-05, elementwise_affine=True)\n",
       "      (encoder): CLIPEncoder(\n",
       "        (layers): ModuleList(\n",
       "          (0-23): 24 x CLIPEncoderLayer(\n",
       "            (self_attn): CLIPAttention(\n",
       "              (k_proj): Linear(in_features=1024, out_features=1024, bias=True)\n",
       "              (v_proj): Linear(in_features=1024, out_features=1024, bias=True)\n",
       "              (q_proj): Linear(in_features=1024, out_features=1024, bias=True)\n",
       "              (out_proj): Linear(in_features=1024, out_features=1024, bias=True)\n",
       "            )\n",
       "            (layer_norm1): LayerNorm((1024,), eps=1e-05, elementwise_affine=True)\n",
       "            (mlp): CLIPMLP(\n",
       "              (activation_fn): QuickGELUActivation()\n",
       "              (fc1): Linear(in_features=1024, out_features=4096, bias=True)\n",
       "              (fc2): Linear(in_features=4096, out_features=1024, bias=True)\n",
       "            )\n",
       "            (layer_norm2): LayerNorm((1024,), eps=1e-05, elementwise_affine=True)\n",
       "          )\n",
       "        )\n",
       "      )\n",
       "      (post_layernorm): LayerNorm((1024,), eps=1e-05, elementwise_affine=True)\n",
       "    )\n",
       "    (visual_projection): Linear(in_features=1024, out_features=768, bias=False)\n",
       "    (text_projection): Linear(in_features=768, out_features=768, bias=False)\n",
       "  )\n",
       "  (head): Linear(in_features=200, out_features=200, bias=False)\n",
       ")"
      ]
     },
     "execution_count": 26,
     "metadata": {},
     "output_type": "execute_result"
    }
   ],
   "source": [
    "net"
   ]
  },
  {
   "cell_type": "code",
   "execution_count": 27,
   "metadata": {},
   "outputs": [
    {
     "name": "stdout",
     "output_type": "stream",
     "text": [
      "trainable params: 40,000 || all params: 427,656,513 || trainable%: 0.01\n"
     ]
    }
   ],
   "source": [
    "print_trainable_parameters(net)"
   ]
  },
  {
   "cell_type": "code",
   "execution_count": 38,
   "metadata": {},
   "outputs": [],
   "source": [
    "optimizer = torch.optim.Adam(net.head.parameters(), lr=3e-4)\n",
    "bs_mul = 1\n",
    "lr_decay = 1"
   ]
  },
  {
   "cell_type": "code",
   "execution_count": 44,
   "metadata": {},
   "outputs": [],
   "source": [
    "nets = []\n",
    "nets.append(net)\n",
    "\n",
    "opts = []\n",
    "for i in range(1):\n",
    "    opts += [torch.optim.Adam(net.head.parameters(), lr=3e-4) ]\n",
    "\n",
    "bs_muls = [1]"
   ]
  },
  {
   "cell_type": "code",
   "execution_count": 46,
   "metadata": {},
   "outputs": [],
   "source": [
    "hist = []\n",
    "name = \"CLIP-ViT-L/14 Probing, 3e-4\"\n",
    "for (net, optimizer, bs_mul) in zip(nets, opts, bs_muls):\n",
    "    net.to(device)\n",
    "    hist.append({\n",
    "        \"run_name\": \"Probing Experiment\",\n",
    "        \"name\": name,\n",
    "        \"bs_mul\": bs_mul,\n",
    "        \"train_loss\": [], \"train_x\": [],\n",
    "        \"val_loss\": [], \"val_x\": [],\n",
    "        \"train_acc_top_1\": [], \"train_acc_top_5\": [],\n",
    "        \"test_acc_top_1\": [], \"test_acc_top_5\": [],\n",
    "        \"val_acc_top_1\": [], \"val_acc_top_5\": [],\n",
    "        \"val_precision\": [], \"val_recall\": [],\n",
    "        \"val_f1\": [], \"test_precision\": [],\n",
    "        \"test_recall\": [], \"test_f1\": [],\n",
    "        \"norm_diffs\": [],\n",
    "        \"epochs_x\": [],\n",
    "        \"norm_diffs_x\": [],\n",
    "        \"total_steps\": 0,\n",
    "        \"prev_val_eval_step\": 0,\n",
    "        \"prev_grad_norms_eval_step\": 0,\n",
    "        \"batch_end\": True\n",
    "    })"
   ]
  },
  {
   "cell_type": "code",
   "execution_count": 48,
   "metadata": {},
   "outputs": [
    {
     "data": {
      "image/png": "[encoded data removed]",
      "text/plain": [
       "<Figure size 1500x1000 with 3 Axes>"
      ]
     },
     "metadata": {},
     "output_type": "display_data"
    },
    {
     "name": "stdout",
     "output_type": "stream",
     "text": [
      "Finished Training\n"
     ]
    }
   ],
   "source": [
    "from IPython import display\n",
    "\n",
    "num_epochs = 10\n",
    "batch_mul_step_count = 500\n",
    "norm_diffs_step_count = 500\n",
    "val_step_count = 500\n",
    "calc_norm_diffs = False\n",
    "\n",
    "#loading_path = name\n",
    "#os.makedirs(loading_path, exist_ok=True)\n",
    "\n",
    "for epoch in range(num_epochs):\n",
    "    for (net, optimizer, net_hist) in zip(nets, opts, hist):    \n",
    "        #net.to(device)\n",
    "        total_steps = net_hist[\"total_steps\"]\n",
    "        bs_mul = net_hist[\"bs_mul\"]\n",
    "\n",
    "        if net_hist[\"bs_mul\"] == \"linear\":\n",
    "            if not (\"bs_mul_value\" in net_hist):\n",
    "                net_hist[\"bs_mul_value\"] = 1\n",
    "\n",
    "            bs_mul = net_hist[\"bs_mul_value\"]\n",
    "\n",
    "        net_hist[\"epochs_x\"].append(total_steps)\n",
    "        optimizer_head = optimizer\n",
    "\n",
    "        for i, data in enumerate(train_loader_preprocessed, 0):\n",
    "\n",
    "            prev_grad_norms_eval_step = net_hist[\"prev_grad_norms_eval_step\"]\n",
    "            if calc_norm_diffs and ((total_steps - prev_grad_norms_eval_step) > norm_diffs_step_count or\n",
    "                                    len(net_hist[\"norm_diffs\"]) == 0) and net_hist[\"batch_end\"]:\n",
    "                net_hist[\"prev_grad_norms_eval_step\"] = total_steps\n",
    "                net.eval()\n",
    "\n",
    "                norm_diffs = compute_norm_diffs(\n",
    "                    net, optimizer_head, None,\n",
    "                    train_loader_wo_crops, train_loader_wo_crops, repeats=5\n",
    "                )\n",
    "\n",
    "                net_hist[\"norm_diffs\"].append(norm_diffs)\n",
    "                net_hist[\"norm_diffs_x\"].append(total_steps)\n",
    "                net.train()\n",
    "\n",
    "            net_hist[\"batch_end\"] = False\n",
    "\n",
    "            if lr_decay < 1:\n",
    "                for g in optimizer_head.param_groups:\n",
    "                    g['lr'] = g['lr'] * lr_decay\n",
    "            \n",
    "            inputs, labels = data\n",
    "            inputs, targets = inputs.to(device), torch.LongTensor(labels).to(device)\n",
    "            logits = net(**inputs)\n",
    "            ce_loss = criterion(logits, targets) / bs_mul\n",
    "            ce_loss.backward()\n",
    "\n",
    "            if total_steps % bs_mul == bs_mul - 1:\n",
    "                optimizer_head.step()\n",
    "                optimizer_head.zero_grad()\n",
    "                net_hist[\"batch_end\"] = True\n",
    "\n",
    "            net_hist[\"train_loss\"].append(ce_loss.detach().cpu().item() * bs_mul)\n",
    "            net_hist[\"train_x\"].append(total_steps)\n",
    "\n",
    "            if total_steps % bs_mul == bs_mul - 1:\n",
    "                if net_hist[\"bs_mul\"] == \"linear\":\n",
    "                    net_hist[\"bs_mul_value\"] = int(int(total_steps) / batch_mul_step_count) + 1\n",
    "                    bs_mul = net_hist[\"bs_mul_value\"]\n",
    "\n",
    "            top_1, top_5 = accuracy(logits, targets, topk=(1, 5))\n",
    "            net_hist[\"train_acc_top_1\"].append(top_1.detach().cpu().item())\n",
    "            net_hist[\"train_acc_top_5\"].append(top_5.detach().cpu().item())\n",
    "\n",
    "            prev_val_eval_step = net_hist[\"prev_val_eval_step\"]\n",
    "            if (total_steps - prev_val_eval_step) > val_step_count and net_hist[\"batch_end\"]:\n",
    "                net_hist[\"prev_val_eval_step\"] = total_steps\n",
    "\n",
    "                net.eval()\n",
    "\n",
    "                val_cbl_losses = []\n",
    "                val_ce_losses = []\n",
    "                val_top_1_accs = []\n",
    "                val_top_5_accs = []\n",
    "                val_top_1_precisions = []\n",
    "                val_top_1_recalls = []\n",
    "                val_top_1_f1scores = []\n",
    "\n",
    "                with torch.no_grad():\n",
    "                    for step, val_data in enumerate(val_loader_preprocessed):\n",
    "\n",
    "                        inputs, labels = val_data\n",
    "                        inputs, targets = inputs.to(device), torch.LongTensor(labels).to(device)\n",
    "                        logits = net(**inputs)\n",
    "                        \n",
    "                        top_1, top_5 = accuracy(logits, targets, topk=(1, 5))\n",
    "                        val_top_1_accs.append(top_1.detach().cpu().item())\n",
    "                        val_top_5_accs.append(top_5.detach().cpu().item())\n",
    "                        warnings.filterwarnings('ignore')    \n",
    "                        precs = precision_metric.compute(predictions=logits.argmax(dim=-1).cpu(), \n",
    "                                                            references=targets.cpu(), \n",
    "                                                            average='weighted')\n",
    "                        recs = recall_metric.compute(predictions=logits.argmax(dim=-1).cpu(), \n",
    "                                                        references=targets.cpu(), \n",
    "                                                        average='weighted')\n",
    "                        f1 = f1_metric.compute(predictions=logits.argmax(dim=-1).cpu(), \n",
    "                                                references=targets.cpu(), \n",
    "                                                average='weighted', \n",
    "                                                labels=np.unique(logits.argmax(dim=-1).cpu()))\n",
    "                                                \n",
    "                        val_top_1_precisions.append(precs['precision'])\n",
    "                        val_top_1_recalls.append(recs['recall'])\n",
    "                        val_top_1_f1scores.append(f1['f1'])\n",
    "\n",
    "                net_hist[\"val_loss\"].append(np.mean(val_ce_losses))\n",
    "\n",
    "                net_hist[\"val_acc_top_1\"].append(np.mean(val_top_1_accs))\n",
    "                net_hist[\"val_acc_top_5\"].append(np.mean(val_top_5_accs))\n",
    "                                                \n",
    "                net_hist[\"val_precision\"].append(np.mean(val_top_1_precisions))\n",
    "                net_hist[\"val_recall\"].append(np.mean(val_top_1_recalls))\n",
    "                net_hist[\"val_f1\"].append(np.mean(val_top_1_f1scores))\n",
    "                                                \n",
    "                net_hist[\"val_x\"].append(total_steps)\n",
    "                net.train()\n",
    "\n",
    "            if total_steps % 10 == 0:\n",
    "                display.clear_output(wait=True)\n",
    "\n",
    "                grouped_hist = group_uniques_full(hist, [\"train_loss\", \"val_loss\", \"val_acc_top_1\", \"train_acc_top_1\"])\n",
    "\n",
    "                fig = plt.figure(figsize=(15, 8 + 2 * ((len(grouped_hist) + 2) // 3)))\n",
    "                gs = GridSpec(4 + 2 * ((len(grouped_hist) + 2) // 3),3, figure=fig)\n",
    "\n",
    "                ax1 = fig.add_subplot(gs[0:4,:2])\n",
    "                ax2 = fig.add_subplot(gs[0:2,2])\n",
    "                ax3 = fig.add_subplot(gs[2:4,2])\n",
    "\n",
    "                ax1 = make_loss_plot(\n",
    "                    ax1, grouped_hist, loss_name = \"CE Loss\", eps=0.01,\n",
    "                    make_val=True, alpha=0.9) #False\n",
    "                ax2 = make_accuracy_plot(\n",
    "                    ax2, grouped_hist, eps=0.01,\n",
    "                    make_train=True, make_val=False, top_k=1, alpha=0.9)\n",
    "                ax3 = make_accuracy_plot(\n",
    "                    ax3, grouped_hist, eps=0.01,\n",
    "                    make_train=False, make_val=True, top_k=1, alpha=0.9)\n",
    "\n",
    "                if calc_norm_diffs:\n",
    "                    draw_norm_hists_for_different_models(fig, gs[4:,:], grouped_hist, bins_n=100, draw_normal=True)\n",
    "\n",
    "                gs.tight_layout(fig)\n",
    "                plt.draw()\n",
    "                plt.show()\n",
    "\n",
    "            total_steps += 1\n",
    "        net_hist[\"total_steps\"] = total_steps\n",
    "        \n",
    "print('Finished Training')"
   ]
  },
  {
   "cell_type": "code",
   "execution_count": 53,
   "metadata": {},
   "outputs": [
    {
     "data": {
      "application/vnd.jupyter.widget-view+json": {
       "model_id": "499940153dbb49e0b5f479e58b9859e2",
       "version_major": 2,
       "version_minor": 0
      },
      "text/plain": [
       "0it [00:00, ?it/s]"
      ]
     },
     "metadata": {},
     "output_type": "display_data"
    }
   ],
   "source": [
    "for (net, optimizer, net_hist) in zip(nets, opts, hist):\n",
    "            net.eval()\n",
    "            test_top_1_accs, test_top_5_accs = [], []\n",
    "            test_top_1_precisions, test_top_1_recalls = [], []\n",
    "            test_top_1_f1scores = []\n",
    "            with torch.no_grad():\n",
    "                for step, batch in tqdm(enumerate(test_loader_preprocessed, 0)):\n",
    "                    warnings.filterwarnings('ignore')\n",
    "                    inputs, labels = batch\n",
    "                    inputs, targets = inputs.to(device), torch.LongTensor(labels).to(device)\n",
    "                    logits = net(**inputs)\n",
    "                    top_1, top_5 = accuracy(logits, targets, topk=(1, 5))\n",
    "                    test_top_1_accs.append(top_1.detach().cpu().item())\n",
    "                    test_top_5_accs.append(top_5.detach().cpu().item())\n",
    "                    \n",
    "                    precs = precision_metric.compute(predictions=logits.argmax(dim=-1).cpu(), \n",
    "                                                     references=targets.cpu(), \n",
    "                                                     average='weighted')\n",
    "                    recs = recall_metric.compute(predictions=logits.argmax(dim=-1).cpu(), \n",
    "                                                 references=targets.cpu(), \n",
    "                                                 average='weighted')\n",
    "                    f1 = f1_metric.compute(predictions=logits.argmax(dim=-1).cpu(), \n",
    "                                           references=targets.cpu(), \n",
    "                                           average='weighted', \n",
    "                                           labels=np.unique(logits.argmax(dim=-1).cpu()))\n",
    "                                           \n",
    "                    test_top_1_precisions.append(precs['precision'])\n",
    "                    test_top_1_recalls.append(recs['recall'])\n",
    "                    test_top_1_f1scores.append(f1['f1'])\n",
    "            \n",
    "            net_hist[\"test_acc_top_1\"].append(np.mean(test_top_1_accs))\n",
    "            net_hist[\"test_acc_top_5\"].append(np.mean(test_top_5_accs))\n",
    "                                           \n",
    "            net_hist[\"test_precision\"].append(np.mean(test_top_1_precisions))\n",
    "            net_hist[\"test_recall\"].append(np.mean(test_top_1_recalls))\n",
    "            net_hist[\"test_f1\"].append(np.mean(test_top_1_f1scores))"
   ]
  },
  {
   "cell_type": "code",
   "execution_count": 55,
   "metadata": {},
   "outputs": [
    {
     "name": "stdout",
     "output_type": "stream",
     "text": [
      "Top 1 Accuracy:  79.29976806640624 \n",
      "\n",
      "Top 5 Accuracy:  96.66087951660157 \n",
      "\n",
      "Top 1 Precision:  0.8113570601851853 \n",
      "\n",
      "Top 1 Recall:  0.7929976851851852 \n",
      "\n",
      "F1:  0.9162206139161662 \n",
      "\n"
     ]
    }
   ],
   "source": [
    "print(\"Top 1 Accuracy: \", net_hist[\"test_acc_top_1\"][-1], \"\\n\")\n",
    "print(\"Top 5 Accuracy: \", net_hist[\"test_acc_top_5\"][-1], \"\\n\")\n",
    "print(\"Top 1 Precision: \",  net_hist[\"test_precision\"][-1], \"\\n\")\n",
    "print(\"Top 1 Recall: \",  net_hist[\"test_recall\"][-1], \"\\n\")\n",
    "print(\"F1: \", net_hist[\"test_f1\"][-1], \"\\n\")"
   ]
  },
  {
   "cell_type": "markdown",
   "metadata": {},
   "source": [
    "#### CIFAR10"
   ]
  },
  {
   "cell_type": "code",
   "execution_count": 57,
   "metadata": {},
   "outputs": [],
   "source": [
    "with open(\"../data/cifar10_classes.txt\", \"r\") as f:\n",
    "    class_names = f.read().split('\\n')\n",
    "\n",
    "class_names = [c.lower() for c in class_names]"
   ]
  },
  {
   "cell_type": "code",
   "execution_count": 60,
   "metadata": {},
   "outputs": [
    {
     "data": {
      "application/vnd.jupyter.widget-view+json": {
       "model_id": "8dfaadde974740b6ba148b15a5e0ed74",
       "version_major": 2,
       "version_minor": 0
      },
      "text/plain": [
       "  0%|          | 0/375 [00:00<?, ?it/s]"
      ]
     },
     "metadata": {},
     "output_type": "display_data"
    }
   ],
   "source": [
    "train_loader_preprocessed  = prepared_dataloaders(Constants.cifar10_link,\n",
    "                                                  concepts=class_names,\n",
    "                                                  prep_loaders=\"train\",\n",
    "                                                  batch_size=128,\n",
    "                                                  backbone_name=Constants.clip_large_link,\n",
    "                                                 )"
   ]
  },
  {
   "cell_type": "code",
   "execution_count": 62,
   "metadata": {},
   "outputs": [
    {
     "data": {
      "application/vnd.jupyter.widget-view+json": {
       "model_id": "7a5ff2bb71ef46bda698ddb208caea6f",
       "version_major": 2,
       "version_minor": 0
      },
      "text/plain": [
       "  0%|          | 0/47 [00:00<?, ?it/s]"
      ]
     },
     "metadata": {},
     "output_type": "display_data"
    }
   ],
   "source": [
    "val_loader_preprocessed  = prepared_dataloaders(Constants.cifar10_link,\n",
    "                                                  concepts=class_names,\n",
    "                                                  prep_loaders=\"val\",\n",
    "                                                  batch_size=128,\n",
    "                                                  backbone_name=Constants.clip_large_link,\n",
    "                                                 )"
   ]
  },
  {
   "cell_type": "code",
   "execution_count": 63,
   "metadata": {},
   "outputs": [
    {
     "data": {
      "application/vnd.jupyter.widget-view+json": {
       "model_id": "9f8331b9f6bd4450bd64eabca52f13b0",
       "version_major": 2,
       "version_minor": 0
      },
      "text/plain": [
       "  0%|          | 0/47 [00:00<?, ?it/s]"
      ]
     },
     "metadata": {},
     "output_type": "display_data"
    }
   ],
   "source": [
    "test_loader_preprocessed  = prepared_dataloaders(Constants.cifar10_link,\n",
    "                                                  concepts=class_names,\n",
    "                                                  prep_loaders=\"test\",\n",
    "                                                  batch_size=128,\n",
    "                                                  backbone_name=Constants.clip_large_link,\n",
    "                                                 )"
   ]
  },
  {
   "cell_type": "code",
   "execution_count": 64,
   "metadata": {},
   "outputs": [
    {
     "name": "stdout",
     "output_type": "stream",
     "text": [
      "trainable params: 100 || all params: 427,616,613 || trainable%: 0.00\n"
     ]
    }
   ],
   "source": [
    "net = LinearProbingModel(\n",
    "    num_classes=10, \n",
    "    backbone_name=Constants.clip_large_link,\n",
    "    train_backbone=False,\n",
    ")\n",
    "criterion = torch.nn.CrossEntropyLoss()\n",
    "\n",
    "print_trainable_parameters(net)"
   ]
  },
  {
   "cell_type": "code",
   "execution_count": 65,
   "metadata": {},
   "outputs": [],
   "source": [
    "optimizer = torch.optim.Adam(net.head.parameters(), lr=3e-4)\n",
    "bs_mul = 1\n",
    "lr_decay = 1\n",
    "\n",
    "nets = []\n",
    "nets.append(net)\n",
    "opts = []\n",
    "for i in range(1):\n",
    "    opts += [torch.optim.Adam(net.head.parameters(), lr=3e-4) ]\n",
    "bs_muls = [1]"
   ]
  },
  {
   "cell_type": "code",
   "execution_count": 66,
   "metadata": {},
   "outputs": [],
   "source": [
    "hist = []\n",
    "name = \"CLIP-ViT-L/14 Probing, 3e-4\"\n",
    "for (net, optimizer, bs_mul) in zip(nets, opts, bs_muls):\n",
    "    net.to(device)\n",
    "    hist.append({\n",
    "        \"run_name\": \"Probing Experiment\",\n",
    "        \"name\": name,\n",
    "        \"bs_mul\": bs_mul,\n",
    "        \"train_loss\": [], \"train_x\": [],\n",
    "        \"val_loss\": [], \"val_x\": [],\n",
    "        \"train_acc_top_1\": [], \"train_acc_top_5\": [],\n",
    "        \"test_acc_top_1\": [], \"test_acc_top_5\": [],\n",
    "        \"val_acc_top_1\": [], \"val_acc_top_5\": [],\n",
    "        \"val_precision\": [], \"val_recall\": [],\n",
    "        \"val_f1\": [], \"test_precision\": [],\n",
    "        \"test_recall\": [], \"test_f1\": [],\n",
    "        \"norm_diffs\": [],\n",
    "        \"epochs_x\": [],\n",
    "        \"norm_diffs_x\": [],\n",
    "        \"total_steps\": 0,\n",
    "        \"prev_val_eval_step\": 0,\n",
    "        \"prev_grad_norms_eval_step\": 0,\n",
    "        \"batch_end\": True\n",
    "    })"
   ]
  },
  {
   "cell_type": "code",
   "execution_count": null,
   "metadata": {},
   "outputs": [],
   "source": [
    "from IPython import display\n",
    "\n",
    "num_epochs = 10\n",
    "batch_mul_step_count = 500\n",
    "norm_diffs_step_count = 500\n",
    "val_step_count = 500\n",
    "calc_norm_diffs = False\n",
    "\n",
    "#loading_path = name\n",
    "#os.makedirs(loading_path, exist_ok=True)\n",
    "\n",
    "for epoch in range(num_epochs):\n",
    "    for (net, optimizer, net_hist) in zip(nets, opts, hist):    \n",
    "        #net.to(device)\n",
    "        total_steps = net_hist[\"total_steps\"]\n",
    "        bs_mul = net_hist[\"bs_mul\"]\n",
    "\n",
    "        if net_hist[\"bs_mul\"] == \"linear\":\n",
    "            if not (\"bs_mul_value\" in net_hist):\n",
    "                net_hist[\"bs_mul_value\"] = 1\n",
    "\n",
    "            bs_mul = net_hist[\"bs_mul_value\"]\n",
    "\n",
    "        net_hist[\"epochs_x\"].append(total_steps)\n",
    "        optimizer_head = optimizer\n",
    "\n",
    "        for i, data in enumerate(train_loader_preprocessed, 0):\n",
    "\n",
    "            prev_grad_norms_eval_step = net_hist[\"prev_grad_norms_eval_step\"]\n",
    "            if calc_norm_diffs and ((total_steps - prev_grad_norms_eval_step) > norm_diffs_step_count or\n",
    "                                    len(net_hist[\"norm_diffs\"]) == 0) and net_hist[\"batch_end\"]:\n",
    "                net_hist[\"prev_grad_norms_eval_step\"] = total_steps\n",
    "                net.eval()\n",
    "\n",
    "                norm_diffs = compute_norm_diffs(\n",
    "                    net, optimizer_head, None,\n",
    "                    train_loader_wo_crops, train_loader_wo_crops, repeats=5\n",
    "                )\n",
    "\n",
    "                net_hist[\"norm_diffs\"].append(norm_diffs)\n",
    "                net_hist[\"norm_diffs_x\"].append(total_steps)\n",
    "                net.train()\n",
    "\n",
    "            net_hist[\"batch_end\"] = False\n",
    "\n",
    "            if lr_decay < 1:\n",
    "                for g in optimizer_head.param_groups:\n",
    "                    g['lr'] = g['lr'] * lr_decay\n",
    "            \n",
    "            inputs, labels = data\n",
    "            inputs, targets = inputs.to(device), torch.LongTensor(labels).to(device)\n",
    "            logits = net(**inputs)\n",
    "            ce_loss = criterion(logits, targets) / bs_mul\n",
    "            ce_loss.backward()\n",
    "\n",
    "            if total_steps % bs_mul == bs_mul - 1:\n",
    "                optimizer_head.step()\n",
    "                optimizer_head.zero_grad()\n",
    "                net_hist[\"batch_end\"] = True\n",
    "\n",
    "            net_hist[\"train_loss\"].append(ce_loss.detach().cpu().item() * bs_mul)\n",
    "            net_hist[\"train_x\"].append(total_steps)\n",
    "\n",
    "            if total_steps % bs_mul == bs_mul - 1:\n",
    "                if net_hist[\"bs_mul\"] == \"linear\":\n",
    "                    net_hist[\"bs_mul_value\"] = int(int(total_steps) / batch_mul_step_count) + 1\n",
    "                    bs_mul = net_hist[\"bs_mul_value\"]\n",
    "\n",
    "            top_1, top_5 = accuracy(logits, targets, topk=(1, 5))\n",
    "            net_hist[\"train_acc_top_1\"].append(top_1.detach().cpu().item())\n",
    "            net_hist[\"train_acc_top_5\"].append(top_5.detach().cpu().item())\n",
    "\n",
    "            prev_val_eval_step = net_hist[\"prev_val_eval_step\"]\n",
    "            if (total_steps - prev_val_eval_step) > val_step_count and net_hist[\"batch_end\"]:\n",
    "                net_hist[\"prev_val_eval_step\"] = total_steps\n",
    "\n",
    "                net.eval()\n",
    "\n",
    "                val_cbl_losses = []\n",
    "                val_ce_losses = []\n",
    "                val_top_1_accs = []\n",
    "                val_top_5_accs = []\n",
    "                val_top_1_precisions = []\n",
    "                val_top_1_recalls = []\n",
    "                val_top_1_f1scores = []\n",
    "\n",
    "                with torch.no_grad():\n",
    "                    for step, val_data in enumerate(val_loader_preprocessed):\n",
    "\n",
    "                        inputs, labels = val_data\n",
    "                        inputs, targets = inputs.to(device), torch.LongTensor(labels).to(device)\n",
    "                        logits = net(**inputs)\n",
    "                        \n",
    "                        top_1, top_5 = accuracy(logits, targets, topk=(1, 5))\n",
    "                        val_top_1_accs.append(top_1.detach().cpu().item())\n",
    "                        val_top_5_accs.append(top_5.detach().cpu().item())\n",
    "                        warnings.filterwarnings('ignore')    \n",
    "                        precs = precision_metric.compute(predictions=logits.argmax(dim=-1).cpu(), \n",
    "                                                            references=targets.cpu(), \n",
    "                                                            average='weighted')\n",
    "                        recs = recall_metric.compute(predictions=logits.argmax(dim=-1).cpu(), \n",
    "                                                        references=targets.cpu(), \n",
    "                                                        average='weighted')\n",
    "                        f1 = f1_metric.compute(predictions=logits.argmax(dim=-1).cpu(), \n",
    "                                                references=targets.cpu(), \n",
    "                                                average='weighted', \n",
    "                                                labels=np.unique(logits.argmax(dim=-1).cpu()))\n",
    "                                                \n",
    "                        val_top_1_precisions.append(precs['precision'])\n",
    "                        val_top_1_recalls.append(recs['recall'])\n",
    "                        val_top_1_f1scores.append(f1['f1'])\n",
    "\n",
    "                net_hist[\"val_loss\"].append(np.mean(val_ce_losses))\n",
    "\n",
    "                net_hist[\"val_acc_top_1\"].append(np.mean(val_top_1_accs))\n",
    "                net_hist[\"val_acc_top_5\"].append(np.mean(val_top_5_accs))\n",
    "                                                \n",
    "                net_hist[\"val_precision\"].append(np.mean(val_top_1_precisions))\n",
    "                net_hist[\"val_recall\"].append(np.mean(val_top_1_recalls))\n",
    "                net_hist[\"val_f1\"].append(np.mean(val_top_1_f1scores))\n",
    "                                                \n",
    "                net_hist[\"val_x\"].append(total_steps)\n",
    "                net.train()\n",
    "\n",
    "            if total_steps % 10 == 0:\n",
    "                display.clear_output(wait=True)\n",
    "\n",
    "                grouped_hist = group_uniques_full(hist, [\"train_loss\", \"val_loss\", \"val_acc_top_1\", \"train_acc_top_1\"])\n",
    "\n",
    "                fig = plt.figure(figsize=(15, 8 + 2 * ((len(grouped_hist) + 2) // 3)))\n",
    "                gs = GridSpec(4 + 2 * ((len(grouped_hist) + 2) // 3),3, figure=fig)\n",
    "\n",
    "                ax1 = fig.add_subplot(gs[0:4,:2])\n",
    "                ax2 = fig.add_subplot(gs[0:2,2])\n",
    "                ax3 = fig.add_subplot(gs[2:4,2])\n",
    "\n",
    "                ax1 = make_loss_plot(\n",
    "                    ax1, grouped_hist, loss_name = \"CE Loss\", eps=0.01,\n",
    "                    make_val=True, alpha=0.9) #False\n",
    "                ax2 = make_accuracy_plot(\n",
    "                    ax2, grouped_hist, eps=0.01,\n",
    "                    make_train=True, make_val=False, top_k=1, alpha=0.9)\n",
    "                ax3 = make_accuracy_plot(\n",
    "                    ax3, grouped_hist, eps=0.01,\n",
    "                    make_train=False, make_val=True, top_k=1, alpha=0.9)\n",
    "\n",
    "                if calc_norm_diffs:\n",
    "                    draw_norm_hists_for_different_models(fig, gs[4:,:], grouped_hist, bins_n=100, draw_normal=True)\n",
    "\n",
    "                gs.tight_layout(fig)\n",
    "                plt.draw()\n",
    "                plt.show()\n",
    "\n",
    "            total_steps += 1\n",
    "        net_hist[\"total_steps\"] = total_steps\n",
    "        \n",
    "print('Finished Training')"
   ]
  },
  {
   "cell_type": "code",
   "execution_count": null,
   "metadata": {},
   "outputs": [],
   "source": [
    "for (net, optimizer, net_hist) in zip(nets, opts, hist):\n",
    "            net.eval()\n",
    "            test_top_1_accs, test_top_5_accs = [], []\n",
    "            test_top_1_precisions, test_top_1_recalls = [], []\n",
    "            test_top_1_f1scores = []\n",
    "            with torch.no_grad():\n",
    "                for step, batch in tqdm(enumerate(test_loader_preprocessed, 0)):\n",
    "                    warnings.filterwarnings('ignore')\n",
    "                    inputs, labels = batch\n",
    "                    inputs, targets = inputs.to(device), torch.LongTensor(labels).to(device)\n",
    "                    logits = net(**inputs)\n",
    "                    top_1, top_5 = accuracy(logits, targets, topk=(1, 5))\n",
    "                    test_top_1_accs.append(top_1.detach().cpu().item())\n",
    "                    test_top_5_accs.append(top_5.detach().cpu().item())\n",
    "                    \n",
    "                    precs = precision_metric.compute(predictions=logits.argmax(dim=-1).cpu(), \n",
    "                                                     references=targets.cpu(), \n",
    "                                                     average='weighted')\n",
    "                    recs = recall_metric.compute(predictions=logits.argmax(dim=-1).cpu(), \n",
    "                                                 references=targets.cpu(), \n",
    "                                                 average='weighted')\n",
    "                    f1 = f1_metric.compute(predictions=logits.argmax(dim=-1).cpu(), \n",
    "                                           references=targets.cpu(), \n",
    "                                           average='weighted', \n",
    "                                           labels=np.unique(logits.argmax(dim=-1).cpu()))\n",
    "                                           \n",
    "                    test_top_1_precisions.append(precs['precision'])\n",
    "                    test_top_1_recalls.append(recs['recall'])\n",
    "                    test_top_1_f1scores.append(f1['f1'])\n",
    "            \n",
    "            net_hist[\"test_acc_top_1\"].append(np.mean(test_top_1_accs))\n",
    "            net_hist[\"test_acc_top_5\"].append(np.mean(test_top_5_accs))\n",
    "                                           \n",
    "            net_hist[\"test_precision\"].append(np.mean(test_top_1_precisions))\n",
    "            net_hist[\"test_recall\"].append(np.mean(test_top_1_recalls))\n",
    "            net_hist[\"test_f1\"].append(np.mean(test_top_1_f1scores))"
   ]
  },
  {
   "cell_type": "code",
   "execution_count": 1,
   "metadata": {},
   "outputs": [
    {
     "name": "stdout",
     "output_type": "stream",
     "text": [
      "Top 1 Accuracy:  96.12356806647223 \n",
      "\n",
      "Top 5 Accuracy:  98.79351668971415 \n",
      "\n",
      "Top 1 Precision:  0.98170601851853 \n",
      "\n",
      "Top 1 Recall:  0.931456851851852 \n",
      "\n",
      "F1:  0.9543305140615806 \n",
      "\n"
     ]
    }
   ],
   "source": [
    "print(\"Top 1 Accuracy: \", net_hist[\"test_acc_top_1\"][-1], \"\\n\")\n",
    "print(\"Top 5 Accuracy: \", net_hist[\"test_acc_top_5\"][-1], \"\\n\")\n",
    "print(\"Top 1 Precision: \",  net_hist[\"test_precision\"][-1], \"\\n\")\n",
    "print(\"Top 1 Recall: \",  net_hist[\"test_recall\"][-1], \"\\n\")\n",
    "print(\"F1: \", net_hist[\"test_f1\"][-1], \"\\n\")"
   ]
  },
  {
   "cell_type": "markdown",
   "metadata": {},
   "source": [
    "#### CIFAR100"
   ]
  },
  {
   "cell_type": "code",
   "execution_count": 8,
   "metadata": {},
   "outputs": [],
   "source": [
    "with open(\"../data/cifar100_classes.txt\", \"r\") as f:\n",
    "    class_names = f.read().split('\\n')\n",
    "\n",
    "class_names = [c.lower() for c in class_names]"
   ]
  },
  {
   "cell_type": "code",
   "execution_count": 10,
   "metadata": {},
   "outputs": [
    {
     "data": {
      "application/vnd.jupyter.widget-view+json": {
       "model_id": "b94e5058fb364b8dba914c5835a27630",
       "version_major": 2,
       "version_minor": 0
      },
      "text/plain": [
       "  0%|          | 0/375 [00:00<?, ?it/s]"
      ]
     },
     "metadata": {},
     "output_type": "display_data"
    }
   ],
   "source": [
    "train_loader_preprocessed  = prepared_dataloaders(Constants.cifar100_link,\n",
    "                                                  concepts=class_names,\n",
    "                                                  prep_loaders=\"train\",\n",
    "                                                  batch_size=128,\n",
    "                                                  backbone_name=Constants.clip_large_link,\n",
    "                                                 )"
   ]
  },
  {
   "cell_type": "code",
   "execution_count": 12,
   "metadata": {},
   "outputs": [
    {
     "data": {
      "application/vnd.jupyter.widget-view+json": {
       "model_id": "074513524b9f412c8563da63d0f7cbd0",
       "version_major": 2,
       "version_minor": 0
      },
      "text/plain": [
       "  0%|          | 0/47 [00:00<?, ?it/s]"
      ]
     },
     "metadata": {},
     "output_type": "display_data"
    }
   ],
   "source": [
    "val_loader_preprocessed  = prepared_dataloaders(Constants.cifar100_link,\n",
    "                                                  concepts=class_names,\n",
    "                                                  prep_loaders=\"val\",\n",
    "                                                  batch_size=128,\n",
    "                                                  backbone_name=Constants.clip_large_link,\n",
    "                                                 )"
   ]
  },
  {
   "cell_type": "code",
   "execution_count": 13,
   "metadata": {},
   "outputs": [
    {
     "data": {
      "application/vnd.jupyter.widget-view+json": {
       "model_id": "3fefe8f7f02e4f82b186be62a7bc2f7b",
       "version_major": 2,
       "version_minor": 0
      },
      "text/plain": [
       "  0%|          | 0/47 [00:00<?, ?it/s]"
      ]
     },
     "metadata": {},
     "output_type": "display_data"
    }
   ],
   "source": [
    "test_loader_preprocessed  = prepared_dataloaders(Constants.cifar100_link,\n",
    "                                                  concepts=class_names,\n",
    "                                                  prep_loaders=\"test\",\n",
    "                                                  batch_size=128,\n",
    "                                                  backbone_name=Constants.clip_large_link,\n",
    "                                                 )"
   ]
  },
  {
   "cell_type": "code",
   "execution_count": 14,
   "metadata": {},
   "outputs": [
    {
     "name": "stdout",
     "output_type": "stream",
     "text": [
      "trainable params: 10,000 || all params: 427,626,513 || trainable%: 0.00\n"
     ]
    }
   ],
   "source": [
    "net = LinearProbingModel(\n",
    "    num_classes=100, \n",
    "    backbone_name=Constants.clip_large_link,\n",
    "    train_backbone=False,\n",
    ")\n",
    "criterion = torch.nn.CrossEntropyLoss()\n",
    "\n",
    "print_trainable_parameters(net)"
   ]
  },
  {
   "cell_type": "code",
   "execution_count": 15,
   "metadata": {},
   "outputs": [],
   "source": [
    "optimizer = torch.optim.Adam(net.head.parameters(), lr=3e-4)\n",
    "bs_mul = 1\n",
    "lr_decay = 1\n",
    "\n",
    "nets = []\n",
    "nets.append(net)\n",
    "opts = []\n",
    "for i in range(1):\n",
    "    opts += [torch.optim.Adam(net.head.parameters(), lr=3e-4) ]\n",
    "bs_muls = [1]"
   ]
  },
  {
   "cell_type": "code",
   "execution_count": 16,
   "metadata": {},
   "outputs": [],
   "source": [
    "hist = []\n",
    "name = \"CLIP-ViT-L/14 Probing, 3e-4\"\n",
    "for (net, optimizer, bs_mul) in zip(nets, opts, bs_muls):\n",
    "    net.to(device)\n",
    "    hist.append({\n",
    "        \"run_name\": \"Probing Experiment\",\n",
    "        \"name\": name,\n",
    "        \"bs_mul\": bs_mul,\n",
    "        \"train_loss\": [], \"train_x\": [],\n",
    "        \"val_loss\": [], \"val_x\": [],\n",
    "        \"train_acc_top_1\": [], \"train_acc_top_5\": [],\n",
    "        \"test_acc_top_1\": [], \"test_acc_top_5\": [],\n",
    "        \"val_acc_top_1\": [], \"val_acc_top_5\": [],\n",
    "        \"val_precision\": [], \"val_recall\": [],\n",
    "        \"val_f1\": [], \"test_precision\": [],\n",
    "        \"test_recall\": [], \"test_f1\": [],\n",
    "        \"norm_diffs\": [],\n",
    "        \"epochs_x\": [],\n",
    "        \"norm_diffs_x\": [],\n",
    "        \"total_steps\": 0,\n",
    "        \"prev_val_eval_step\": 0,\n",
    "        \"prev_grad_norms_eval_step\": 0,\n",
    "        \"batch_end\": True\n",
    "    })"
   ]
  },
  {
   "cell_type": "code",
   "execution_count": null,
   "metadata": {},
   "outputs": [],
   "source": [
    "from IPython import display\n",
    "\n",
    "num_epochs = 10\n",
    "batch_mul_step_count = 500\n",
    "norm_diffs_step_count = 500\n",
    "val_step_count = 500\n",
    "calc_norm_diffs = False\n",
    "\n",
    "#loading_path = name\n",
    "#os.makedirs(loading_path, exist_ok=True)\n",
    "\n",
    "for epoch in range(num_epochs):\n",
    "    for (net, optimizer, net_hist) in zip(nets, opts, hist):    \n",
    "        #net.to(device)\n",
    "        total_steps = net_hist[\"total_steps\"]\n",
    "        bs_mul = net_hist[\"bs_mul\"]\n",
    "\n",
    "        if net_hist[\"bs_mul\"] == \"linear\":\n",
    "            if not (\"bs_mul_value\" in net_hist):\n",
    "                net_hist[\"bs_mul_value\"] = 1\n",
    "\n",
    "            bs_mul = net_hist[\"bs_mul_value\"]\n",
    "\n",
    "        net_hist[\"epochs_x\"].append(total_steps)\n",
    "        optimizer_head = optimizer\n",
    "\n",
    "        for i, data in enumerate(train_loader_preprocessed, 0):\n",
    "\n",
    "            prev_grad_norms_eval_step = net_hist[\"prev_grad_norms_eval_step\"]\n",
    "            if calc_norm_diffs and ((total_steps - prev_grad_norms_eval_step) > norm_diffs_step_count or\n",
    "                                    len(net_hist[\"norm_diffs\"]) == 0) and net_hist[\"batch_end\"]:\n",
    "                net_hist[\"prev_grad_norms_eval_step\"] = total_steps\n",
    "                net.eval()\n",
    "\n",
    "                norm_diffs = compute_norm_diffs(\n",
    "                    net, optimizer_head, None,\n",
    "                    train_loader_wo_crops, train_loader_wo_crops, repeats=5\n",
    "                )\n",
    "\n",
    "                net_hist[\"norm_diffs\"].append(norm_diffs)\n",
    "                net_hist[\"norm_diffs_x\"].append(total_steps)\n",
    "                net.train()\n",
    "\n",
    "            net_hist[\"batch_end\"] = False\n",
    "\n",
    "            if lr_decay < 1:\n",
    "                for g in optimizer_head.param_groups:\n",
    "                    g['lr'] = g['lr'] * lr_decay\n",
    "            \n",
    "            inputs, labels = data\n",
    "            inputs, targets = inputs.to(device), torch.LongTensor(labels).to(device)\n",
    "            logits = net(**inputs)\n",
    "            ce_loss = criterion(logits, targets) / bs_mul\n",
    "            ce_loss.backward()\n",
    "\n",
    "            if total_steps % bs_mul == bs_mul - 1:\n",
    "                optimizer_head.step()\n",
    "                optimizer_head.zero_grad()\n",
    "                net_hist[\"batch_end\"] = True\n",
    "\n",
    "            net_hist[\"train_loss\"].append(ce_loss.detach().cpu().item() * bs_mul)\n",
    "            net_hist[\"train_x\"].append(total_steps)\n",
    "\n",
    "            if total_steps % bs_mul == bs_mul - 1:\n",
    "                if net_hist[\"bs_mul\"] == \"linear\":\n",
    "                    net_hist[\"bs_mul_value\"] = int(int(total_steps) / batch_mul_step_count) + 1\n",
    "                    bs_mul = net_hist[\"bs_mul_value\"]\n",
    "\n",
    "            top_1, top_5 = accuracy(logits, targets, topk=(1, 5))\n",
    "            net_hist[\"train_acc_top_1\"].append(top_1.detach().cpu().item())\n",
    "            net_hist[\"train_acc_top_5\"].append(top_5.detach().cpu().item())\n",
    "\n",
    "            prev_val_eval_step = net_hist[\"prev_val_eval_step\"]\n",
    "            if (total_steps - prev_val_eval_step) > val_step_count and net_hist[\"batch_end\"]:\n",
    "                net_hist[\"prev_val_eval_step\"] = total_steps\n",
    "\n",
    "                net.eval()\n",
    "\n",
    "                val_cbl_losses = []\n",
    "                val_ce_losses = []\n",
    "                val_top_1_accs = []\n",
    "                val_top_5_accs = []\n",
    "                val_top_1_precisions = []\n",
    "                val_top_1_recalls = []\n",
    "                val_top_1_f1scores = []\n",
    "\n",
    "                with torch.no_grad():\n",
    "                    for step, val_data in enumerate(val_loader_preprocessed):\n",
    "\n",
    "                        inputs, labels = val_data\n",
    "                        inputs, targets = inputs.to(device), torch.LongTensor(labels).to(device)\n",
    "                        logits = net(**inputs)\n",
    "                        \n",
    "                        top_1, top_5 = accuracy(logits, targets, topk=(1, 5))\n",
    "                        val_top_1_accs.append(top_1.detach().cpu().item())\n",
    "                        val_top_5_accs.append(top_5.detach().cpu().item())\n",
    "                        warnings.filterwarnings('ignore')    \n",
    "                        precs = precision_metric.compute(predictions=logits.argmax(dim=-1).cpu(), \n",
    "                                                            references=targets.cpu(), \n",
    "                                                            average='weighted')\n",
    "                        recs = recall_metric.compute(predictions=logits.argmax(dim=-1).cpu(), \n",
    "                                                        references=targets.cpu(), \n",
    "                                                        average='weighted')\n",
    "                        f1 = f1_metric.compute(predictions=logits.argmax(dim=-1).cpu(), \n",
    "                                                references=targets.cpu(), \n",
    "                                                average='weighted', \n",
    "                                                labels=np.unique(logits.argmax(dim=-1).cpu()))\n",
    "                                                \n",
    "                        val_top_1_precisions.append(precs['precision'])\n",
    "                        val_top_1_recalls.append(recs['recall'])\n",
    "                        val_top_1_f1scores.append(f1['f1'])\n",
    "\n",
    "                net_hist[\"val_loss\"].append(np.mean(val_ce_losses))\n",
    "\n",
    "                net_hist[\"val_acc_top_1\"].append(np.mean(val_top_1_accs))\n",
    "                net_hist[\"val_acc_top_5\"].append(np.mean(val_top_5_accs))\n",
    "                                                \n",
    "                net_hist[\"val_precision\"].append(np.mean(val_top_1_precisions))\n",
    "                net_hist[\"val_recall\"].append(np.mean(val_top_1_recalls))\n",
    "                net_hist[\"val_f1\"].append(np.mean(val_top_1_f1scores))\n",
    "                                                \n",
    "                net_hist[\"val_x\"].append(total_steps)\n",
    "                net.train()\n",
    "\n",
    "            if total_steps % 10 == 0:\n",
    "                display.clear_output(wait=True)\n",
    "\n",
    "                grouped_hist = group_uniques_full(hist, [\"train_loss\", \"val_loss\", \"val_acc_top_1\", \"train_acc_top_1\"])\n",
    "\n",
    "                fig = plt.figure(figsize=(15, 8 + 2 * ((len(grouped_hist) + 2) // 3)))\n",
    "                gs = GridSpec(4 + 2 * ((len(grouped_hist) + 2) // 3),3, figure=fig)\n",
    "\n",
    "                ax1 = fig.add_subplot(gs[0:4,:2])\n",
    "                ax2 = fig.add_subplot(gs[0:2,2])\n",
    "                ax3 = fig.add_subplot(gs[2:4,2])\n",
    "\n",
    "                ax1 = make_loss_plot(\n",
    "                    ax1, grouped_hist, loss_name = \"CE Loss\", eps=0.01,\n",
    "                    make_val=True, alpha=0.9) #False\n",
    "                ax2 = make_accuracy_plot(\n",
    "                    ax2, grouped_hist, eps=0.01,\n",
    "                    make_train=True, make_val=False, top_k=1, alpha=0.9)\n",
    "                ax3 = make_accuracy_plot(\n",
    "                    ax3, grouped_hist, eps=0.01,\n",
    "                    make_train=False, make_val=True, top_k=1, alpha=0.9)\n",
    "\n",
    "                if calc_norm_diffs:\n",
    "                    draw_norm_hists_for_different_models(fig, gs[4:,:], grouped_hist, bins_n=100, draw_normal=True)\n",
    "\n",
    "                gs.tight_layout(fig)\n",
    "                plt.draw()\n",
    "                plt.show()\n",
    "\n",
    "            total_steps += 1\n",
    "        net_hist[\"total_steps\"] = total_steps\n",
    "        \n",
    "print('Finished Training')"
   ]
  },
  {
   "cell_type": "code",
   "execution_count": null,
   "metadata": {},
   "outputs": [],
   "source": [
    "for (net, optimizer, net_hist) in zip(nets, opts, hist):\n",
    "            net.eval()\n",
    "            test_top_1_accs, test_top_5_accs = [], []\n",
    "            test_top_1_precisions, test_top_1_recalls = [], []\n",
    "            test_top_1_f1scores = []\n",
    "            with torch.no_grad():\n",
    "                for step, batch in tqdm(enumerate(test_loader_preprocessed, 0)):\n",
    "                    warnings.filterwarnings('ignore')\n",
    "                    inputs, labels = batch\n",
    "                    inputs, targets = inputs.to(device), torch.LongTensor(labels).to(device)\n",
    "                    logits = net(**inputs)\n",
    "                    top_1, top_5 = accuracy(logits, targets, topk=(1, 5))\n",
    "                    test_top_1_accs.append(top_1.detach().cpu().item())\n",
    "                    test_top_5_accs.append(top_5.detach().cpu().item())\n",
    "                    \n",
    "                    precs = precision_metric.compute(predictions=logits.argmax(dim=-1).cpu(), \n",
    "                                                     references=targets.cpu(), \n",
    "                                                     average='weighted')\n",
    "                    recs = recall_metric.compute(predictions=logits.argmax(dim=-1).cpu(), \n",
    "                                                 references=targets.cpu(), \n",
    "                                                 average='weighted')\n",
    "                    f1 = f1_metric.compute(predictions=logits.argmax(dim=-1).cpu(), \n",
    "                                           references=targets.cpu(), \n",
    "                                           average='weighted', \n",
    "                                           labels=np.unique(logits.argmax(dim=-1).cpu()))\n",
    "                                           \n",
    "                    test_top_1_precisions.append(precs['precision'])\n",
    "                    test_top_1_recalls.append(recs['recall'])\n",
    "                    test_top_1_f1scores.append(f1['f1'])\n",
    "            \n",
    "            net_hist[\"test_acc_top_1\"].append(np.mean(test_top_1_accs))\n",
    "            net_hist[\"test_acc_top_5\"].append(np.mean(test_top_5_accs))\n",
    "                                           \n",
    "            net_hist[\"test_precision\"].append(np.mean(test_top_1_precisions))\n",
    "            net_hist[\"test_recall\"].append(np.mean(test_top_1_recalls))\n",
    "            net_hist[\"test_f1\"].append(np.mean(test_top_1_f1scores))"
   ]
  },
  {
   "cell_type": "code",
   "execution_count": 4,
   "metadata": {},
   "outputs": [
    {
     "name": "stdout",
     "output_type": "stream",
     "text": [
      "Top 1 Accuracy:  80.03711325947329 \n",
      "\n",
      "Top 5 Accuracy:  95.4953037879092 \n",
      "\n",
      "Top 1 Precision:  0.81170065811385 \n",
      "\n",
      "Top 1 Recall:  0.791337582044016 \n",
      "\n",
      "F1:  0.8606422410780327 \n",
      "\n"
     ]
    }
   ],
   "source": [
    "print(\"Top 1 Accuracy: \", net_hist[\"test_acc_top_1\"][-1], \"\\n\")\n",
    "print(\"Top 5 Accuracy: \", net_hist[\"test_acc_top_5\"][-1], \"\\n\")\n",
    "print(\"Top 1 Precision: \",  net_hist[\"test_precision\"][-1], \"\\n\")\n",
    "print(\"Top 1 Recall: \",  net_hist[\"test_recall\"][-1], \"\\n\")\n",
    "print(\"F1: \", net_hist[\"test_f1\"][-1], \"\\n\")"
   ]
  }
 ],
 "metadata": {
  "kernelspec": {
   "display_name": "andronserv",
   "language": "python",
   "name": "andronserv"
  },
  "language_info": {
   "codemirror_mode": {
    "name": "ipython",
    "version": 3
   },
   "file_extension": ".py",
   "mimetype": "text/x-python",
   "name": "python",
   "nbconvert_exporter": "python",
   "pygments_lexer": "ipython3",
   "version": "3.10.13"
  }
 },
 "nbformat": 4,
 "nbformat_minor": 4
}
